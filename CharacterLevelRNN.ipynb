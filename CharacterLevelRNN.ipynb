{
 "cells": [
  {
   "cell_type": "code",
   "execution_count": 2,
   "metadata": {},
   "outputs": [],
   "source": [
    "import torch\n",
    "import pandas as pd\n",
    "import glob"
   ]
  },
  {
   "cell_type": "code",
   "execution_count": 3,
   "metadata": {},
   "outputs": [],
   "source": [
    "file_path = '/Users/topih/Pytorch/datasets/name_by_language/names'\n",
    "allFiles = glob.glob(file_path + \"/*.txt\")"
   ]
  },
  {
   "cell_type": "code",
   "execution_count": 4,
   "metadata": {},
   "outputs": [
    {
     "data": {
      "text/plain": [
       "['/Users/topih/Pytorch/datasets/name_by_language/names\\\\Arabic.txt',\n",
       " '/Users/topih/Pytorch/datasets/name_by_language/names\\\\Chinese.txt',\n",
       " '/Users/topih/Pytorch/datasets/name_by_language/names\\\\Czech.txt',\n",
       " '/Users/topih/Pytorch/datasets/name_by_language/names\\\\Dutch.txt',\n",
       " '/Users/topih/Pytorch/datasets/name_by_language/names\\\\French.txt',\n",
       " '/Users/topih/Pytorch/datasets/name_by_language/names\\\\German.txt',\n",
       " '/Users/topih/Pytorch/datasets/name_by_language/names\\\\Greek.txt',\n",
       " '/Users/topih/Pytorch/datasets/name_by_language/names\\\\Irish.txt',\n",
       " '/Users/topih/Pytorch/datasets/name_by_language/names\\\\Italian.txt',\n",
       " '/Users/topih/Pytorch/datasets/name_by_language/names\\\\Japanese.txt',\n",
       " '/Users/topih/Pytorch/datasets/name_by_language/names\\\\Korean.txt',\n",
       " '/Users/topih/Pytorch/datasets/name_by_language/names\\\\Polish.txt',\n",
       " '/Users/topih/Pytorch/datasets/name_by_language/names\\\\Scottish.txt',\n",
       " '/Users/topih/Pytorch/datasets/name_by_language/names\\\\Spanish.txt',\n",
       " '/Users/topih/Pytorch/datasets/name_by_language/names\\\\Vietnamese.txt']"
      ]
     },
     "execution_count": 4,
     "metadata": {},
     "output_type": "execute_result"
    }
   ],
   "source": [
    "allFiles"
   ]
  },
  {
   "cell_type": "code",
   "execution_count": 5,
   "metadata": {},
   "outputs": [],
   "source": [
    "name_data = pd.DataFrame()\n",
    "list_ = []"
   ]
  },
  {
   "cell_type": "code",
   "execution_count": 6,
   "metadata": {},
   "outputs": [],
   "source": [
    "for file_ in allFiles:\n",
    "    df = pd.read_csv(file_,\n",
    "                    sep='/n',\n",
    "                    names = ['Name'],\n",
    "                    engine = 'python',\n",
    "                    error_bad_lines=False)\n",
    "    df['language'] = str(file_.split('/')[-1].split('.')[0])\n",
    "    \n",
    "    list_.append(df)\n",
    "    names_data = pd.concat(list_)"
   ]
  },
  {
   "cell_type": "code",
   "execution_count": 7,
   "metadata": {},
   "outputs": [
    {
     "data": {
      "text/html": [
       "<div>\n",
       "<style scoped>\n",
       "    .dataframe tbody tr th:only-of-type {\n",
       "        vertical-align: middle;\n",
       "    }\n",
       "\n",
       "    .dataframe tbody tr th {\n",
       "        vertical-align: top;\n",
       "    }\n",
       "\n",
       "    .dataframe thead th {\n",
       "        text-align: right;\n",
       "    }\n",
       "</style>\n",
       "<table border=\"1\" class=\"dataframe\">\n",
       "  <thead>\n",
       "    <tr style=\"text-align: right;\">\n",
       "      <th></th>\n",
       "      <th>Name</th>\n",
       "      <th>language</th>\n",
       "    </tr>\n",
       "  </thead>\n",
       "  <tbody>\n",
       "    <tr>\n",
       "      <th>620</th>\n",
       "      <td>Okada</td>\n",
       "      <td>names\\Japanese</td>\n",
       "    </tr>\n",
       "    <tr>\n",
       "      <th>53</th>\n",
       "      <td>Bosque</td>\n",
       "      <td>names\\Spanish</td>\n",
       "    </tr>\n",
       "    <tr>\n",
       "      <th>140</th>\n",
       "      <td>Jasso</td>\n",
       "      <td>names\\Spanish</td>\n",
       "    </tr>\n",
       "    <tr>\n",
       "      <th>74</th>\n",
       "      <td>Alberghi</td>\n",
       "      <td>names\\Italian</td>\n",
       "    </tr>\n",
       "    <tr>\n",
       "      <th>221</th>\n",
       "      <td>Rocha</td>\n",
       "      <td>names\\Spanish</td>\n",
       "    </tr>\n",
       "    <tr>\n",
       "      <th>68</th>\n",
       "      <td>Hanraets</td>\n",
       "      <td>names\\Dutch</td>\n",
       "    </tr>\n",
       "    <tr>\n",
       "      <th>70</th>\n",
       "      <td>Touma</td>\n",
       "      <td>names\\Arabic</td>\n",
       "    </tr>\n",
       "    <tr>\n",
       "      <th>250</th>\n",
       "      <td>Silva</td>\n",
       "      <td>names\\Spanish</td>\n",
       "    </tr>\n",
       "    <tr>\n",
       "      <th>268</th>\n",
       "      <td>Molcan</td>\n",
       "      <td>names\\Czech</td>\n",
       "    </tr>\n",
       "    <tr>\n",
       "      <th>121</th>\n",
       "      <td>Makricosta</td>\n",
       "      <td>names\\Greek</td>\n",
       "    </tr>\n",
       "  </tbody>\n",
       "</table>\n",
       "</div>"
      ],
      "text/plain": [
       "           Name        language\n",
       "620       Okada  names\\Japanese\n",
       "53       Bosque   names\\Spanish\n",
       "140       Jasso   names\\Spanish\n",
       "74     Alberghi   names\\Italian\n",
       "221       Rocha   names\\Spanish\n",
       "68     Hanraets     names\\Dutch\n",
       "70        Touma    names\\Arabic\n",
       "250       Silva   names\\Spanish\n",
       "268      Molcan     names\\Czech\n",
       "121  Makricosta     names\\Greek"
      ]
     },
     "execution_count": 7,
     "metadata": {},
     "output_type": "execute_result"
    }
   ],
   "source": [
    "names_data.sample(10)"
   ]
  },
  {
   "cell_type": "code",
   "execution_count": 8,
   "metadata": {},
   "outputs": [],
   "source": [
    "languages = names_data['language'].unique()"
   ]
  },
  {
   "cell_type": "code",
   "execution_count": 9,
   "metadata": {},
   "outputs": [
    {
     "data": {
      "text/plain": [
       "array(['names\\\\Arabic', 'names\\\\Chinese', 'names\\\\Czech', 'names\\\\Dutch',\n",
       "       'names\\\\French', 'names\\\\German', 'names\\\\Greek', 'names\\\\Irish',\n",
       "       'names\\\\Italian', 'names\\\\Japanese', 'names\\\\Korean',\n",
       "       'names\\\\Polish', 'names\\\\Scottish', 'names\\\\Spanish',\n",
       "       'names\\\\Vietnamese'], dtype=object)"
      ]
     },
     "execution_count": 9,
     "metadata": {},
     "output_type": "execute_result"
    }
   ],
   "source": [
    "languages"
   ]
  },
  {
   "cell_type": "code",
   "execution_count": 11,
   "metadata": {},
   "outputs": [
    {
     "data": {
      "text/plain": [
       "15"
      ]
     },
     "execution_count": 11,
     "metadata": {},
     "output_type": "execute_result"
    }
   ],
   "source": [
    "len(languages)"
   ]
  },
  {
   "cell_type": "code",
   "execution_count": 12,
   "metadata": {},
   "outputs": [
    {
     "data": {
      "text/plain": [
       "4994"
      ]
     },
     "execution_count": 12,
     "metadata": {},
     "output_type": "execute_result"
    }
   ],
   "source": [
    "len(names_data)"
   ]
  },
  {
   "cell_type": "code",
   "execution_count": 14,
   "metadata": {},
   "outputs": [],
   "source": [
    "names_data = names_data.drop_duplicates()"
   ]
  },
  {
   "cell_type": "code",
   "execution_count": 15,
   "metadata": {},
   "outputs": [
    {
     "data": {
      "text/plain": [
       "4931"
      ]
     },
     "execution_count": 15,
     "metadata": {},
     "output_type": "execute_result"
    }
   ],
   "source": [
    "len(names_data)"
   ]
  },
  {
   "cell_type": "code",
   "execution_count": 16,
   "metadata": {},
   "outputs": [
    {
     "data": {
      "text/plain": [
       "\"abcdefghijklmnopqrstuvwxyzABCDEFGHIJKLMNOPQRSTUVWXYZ .,;'\""
      ]
     },
     "execution_count": 16,
     "metadata": {},
     "output_type": "execute_result"
    }
   ],
   "source": [
    "import string\n",
    "all_letters = string.ascii_letters + \" .,;'\"\n",
    "n_letters = len(all_letters)\n",
    "all_letters"
   ]
  },
  {
   "cell_type": "code",
   "execution_count": 17,
   "metadata": {},
   "outputs": [],
   "source": [
    "def name_to_tensor(name):\n",
    "    name_in_tensor = torch.zeros(len(name), 1, n_letters)\n",
    "    for i, letter in enumerate(name):\n",
    "        name_in_tensor[i][0][all_letters.find(letter)] = 1\n",
    "        \n",
    "    return name_in_tensor"
   ]
  },
  {
   "cell_type": "code",
   "execution_count": 19,
   "metadata": {},
   "outputs": [
    {
     "data": {
      "text/plain": [
       "tensor([[[1., 0., 0., 0., 0., 0., 0., 0., 0., 0., 0., 0., 0., 0., 0., 0., 0.,\n",
       "          0., 0., 0., 0., 0., 0., 0., 0., 0., 0., 0., 0., 0., 0., 0., 0., 0.,\n",
       "          0., 0., 0., 0., 0., 0., 0., 0., 0., 0., 0., 0., 0., 0., 0., 0., 0.,\n",
       "          0., 0., 0., 0., 0., 0.]]])"
      ]
     },
     "execution_count": 19,
     "metadata": {},
     "output_type": "execute_result"
    }
   ],
   "source": [
    "name_to_tensor('a')"
   ]
  },
  {
   "cell_type": "code",
   "execution_count": 20,
   "metadata": {},
   "outputs": [
    {
     "data": {
      "text/plain": [
       "tensor([[[1., 0., 0., 0., 0., 0., 0., 0., 0., 0., 0., 0., 0., 0., 0., 0., 0.,\n",
       "          0., 0., 0., 0., 0., 0., 0., 0., 0., 0., 0., 0., 0., 0., 0., 0., 0.,\n",
       "          0., 0., 0., 0., 0., 0., 0., 0., 0., 0., 0., 0., 0., 0., 0., 0., 0.,\n",
       "          0., 0., 0., 0., 0., 0.]],\n",
       "\n",
       "        [[0., 0., 0., 0., 0., 0., 0., 0., 0., 0., 0., 0., 0., 0., 0., 0., 0.,\n",
       "          0., 0., 0., 0., 0., 0., 0., 0., 0., 0., 0., 0., 0., 0., 0., 0., 0.,\n",
       "          0., 0., 0., 0., 0., 0., 0., 0., 0., 0., 0., 0., 0., 0., 0., 0., 0.,\n",
       "          0., 1., 0., 0., 0., 0.]],\n",
       "\n",
       "        [[0., 0., 0., 0., 0., 0., 0., 0., 0., 0., 0., 0., 0., 0., 0., 0., 0.,\n",
       "          0., 0., 0., 0., 0., 0., 0., 0., 0., 1., 0., 0., 0., 0., 0., 0., 0.,\n",
       "          0., 0., 0., 0., 0., 0., 0., 0., 0., 0., 0., 0., 0., 0., 0., 0., 0.,\n",
       "          0., 0., 0., 0., 0., 0.]]])"
      ]
     },
     "execution_count": 20,
     "metadata": {},
     "output_type": "execute_result"
    }
   ],
   "source": [
    "name_to_tensor('a A')"
   ]
  },
  {
   "cell_type": "code",
   "execution_count": 21,
   "metadata": {},
   "outputs": [],
   "source": [
    "import torch.nn as nn\n",
    "\n",
    "class RNN(nn.Module):\n",
    "    def __init__(self, input_size, hidden_size, output_size):\n",
    "        super(RNN, self).__init__()\n",
    "        self.hidden_size = hidden_size\n",
    "        self.i2h = nn.Linear(input_size + hidden_size, hidden_size)\n",
    "        self.i2o = nn.Linear(input_size + hidden_size, output_size)\n",
    "        self.softmax = nn.LogSoftmax(dim=1)\n",
    "        \n",
    "    def forward(self, input, hidden):\n",
    "        combined = torch.cat((input, hidden), 1)\n",
    "        hidden = self.i2h(combined)\n",
    "        output = self.i2o(combined)\n",
    "        output = self.softmax(output)\n",
    "        return output, hidden\n",
    "    \n",
    "    def initHidden(self):\n",
    "        return torch.zeros(1, self.hidden_size)\n",
    "    "
   ]
  },
  {
   "cell_type": "code",
   "execution_count": 22,
   "metadata": {},
   "outputs": [],
   "source": [
    "n_hidden = 128\n",
    "n_languages = len(languages)"
   ]
  },
  {
   "cell_type": "code",
   "execution_count": 29,
   "metadata": {},
   "outputs": [],
   "source": [
    "rnn = RNN(n_letters, n_hidden, output_size = n_languages)"
   ]
  },
  {
   "cell_type": "code",
   "execution_count": 24,
   "metadata": {},
   "outputs": [],
   "source": [
    "iterations = 100000\n",
    "criterion = nn.NLLLoss()\n",
    "learning_rate = 0.005"
   ]
  },
  {
   "cell_type": "code",
   "execution_count": 25,
   "metadata": {},
   "outputs": [],
   "source": [
    "def output_to_language(output):\n",
    "    top_n, top_index = output.topk(1)\n",
    "    pred_i = top_index[0].item()\n",
    "    pred = languages[pred_i]\n",
    "    return pred"
   ]
  },
  {
   "cell_type": "code",
   "execution_count": 26,
   "metadata": {},
   "outputs": [],
   "source": [
    "import random"
   ]
  },
  {
   "cell_type": "code",
   "execution_count": 27,
   "metadata": {},
   "outputs": [],
   "source": [
    "current_loss = 0\n",
    "all_losses = []"
   ]
  },
  {
   "cell_type": "code",
   "execution_count": 30,
   "metadata": {},
   "outputs": [
    {
     "name": "stdout",
     "output_type": "stream",
     "text": [
      "iters- 5000 5% (1.6518852710723877) Name- Ughi Language- names\\Japanese ☓ (names\\Italian)\n",
      "iters- 10000 10% (2.2691240310668945) Name- Schneider Language- names\\German ☓ (names\\Dutch)\n",
      "iters- 15000 15% (1.1619834899902344) Name- Behrend Language- names\\German ✓\n",
      "iters- 20000 20% (0.17943763732910156) Name- Asanuma Language- names\\Japanese ✓\n",
      "iters- 25000 25% (0.8357617855072021) Name- Sheinfeld Language- names\\German ✓\n",
      "iters- 30000 30% (0.8057687282562256) Name- Hanzlik Language- names\\Czech ✓\n",
      "iters- 35000 35% (0.08001947402954102) Name- Tomonaga Language- names\\Japanese ✓\n",
      "iters- 40000 40% (2.763862133026123) Name- Vo Language- names\\Italian ☓ (names\\Vietnamese)\n",
      "iters- 45000 45% (0.4640638828277588) Name- Ruadhain Language- names\\Irish ✓\n",
      "iters- 50000 50% (1.0888166427612305) Name- Bosco Language- names\\Italian ✓\n",
      "iters- 55000 55% (0.0029554367065429688) Name- Shirokawa Language- names\\Japanese ✓\n",
      "iters- 60000 60% (2.6212072372436523) Name- Kim Language- names\\Chinese ☓ (names\\Vietnamese)\n",
      "iters- 65000 65% (2.8252615928649902) Name- Bruce Language- names\\German ☓ (names\\Scottish)\n",
      "iters- 70000 70% (1.1605377197265625) Name- GroÃŸel Language- names\\Spanish ☓ (names\\German)\n",
      "iters- 75000 75% (0.0894479751586914) Name- Yanagi Language- names\\Japanese ✓\n",
      "iters- 80000 80% (0.13480234146118164) Name- Mariani Language- names\\Italian ✓\n",
      "iters- 85000 85% (3.1872611045837402) Name- Serafin Language- names\\Czech ☓ (names\\Italian)\n",
      "iters- 90000 90% (0.901378870010376) Name- WeiÃŸ Language- names\\German ✓\n",
      "iters- 95000 95% (0.14461517333984375) Name- Geiszler Language- names\\German ✓\n",
      "iters- 100000 100% (1.5868291854858398) Name- Eichel Language- names\\Czech ☓ (names\\German)\n"
     ]
    }
   ],
   "source": [
    "for iteration in range(1, iterations+1):\n",
    "    \n",
    "    i = random.randint(0, len(names_data)-1)\n",
    "    \n",
    "    name = names_data.iloc[i][0]\n",
    "    name_in_tensor = name_to_tensor(name)\n",
    "    \n",
    "    language = names_data.iloc[i][1]\n",
    "    language_in_tensor = torch.tensor([list(languages).index(language)], dtype=torch.long)\n",
    "    \n",
    "    hidden = rnn.initHidden()\n",
    "    rnn.zero_grad()\n",
    "    \n",
    "    for i in range(name_in_tensor.size()[0]):\n",
    "        output, hidden = rnn(name_in_tensor[i], hidden)\n",
    "        \n",
    "    loss = criterion(output, language_in_tensor)\n",
    "    loss.backward()\n",
    "    \n",
    "    current_loss += loss.item()\n",
    "    \n",
    "    for p in rnn.parameters():\n",
    "        p.data.add_(-learning_rate, p.grad.data)\n",
    "        \n",
    "    if iteration% 5000 == 0:\n",
    "        pred = output_to_language(output)\n",
    "        correct = '✓' if pred == language else '☓ (%s)' % language\n",
    "        print('iters- %d %d%% (%s) Name- %s Language- %s %s' % \\\n",
    "             (iteration, iteration/iterations*100, loss.item(), name, pred, correct))\n",
    "        \n",
    "    if iteration % 1000 == 0:\n",
    "        all_losses.append(current_loss / 1000)\n",
    "        current_loss = 0"
   ]
  },
  {
   "cell_type": "code",
   "execution_count": 33,
   "metadata": {},
   "outputs": [
    {
     "data": {
      "image/png": "[encoded data removed]",
      "text/plain": [
       "<Figure size 432x288 with 1 Axes>"
      ]
     },
     "metadata": {
      "needs_background": "light"
     },
     "output_type": "display_data"
    }
   ],
   "source": [
    "import matplotlib.pyplot as plt\n",
    "plt.figure()\n",
    "plt.plot(all_losses)\n",
    "plt.show()"
   ]
  },
  {
   "cell_type": "code",
   "execution_count": 36,
   "metadata": {},
   "outputs": [],
   "source": [
    "n_confusion = 10000\n",
    "prediction=[]\n",
    "actual=[]\n",
    "\n",
    "for _ in range(n_confusion):\n",
    "    \n",
    "    i = random.randint(0, len(names_data) - 1)\n",
    "    \n",
    "    name = names_data.iloc[i][0]\n",
    "    name_in_tensor = name_to_tensor(name)\n",
    "    \n",
    "    language = names_data.iloc[i][1]\n",
    "    language_in_tensor = torch.tensor([list(languages).index(language)], dtype=torch.long)\n",
    "    \n",
    "    hidden = rnn.initHidden()\n",
    "    \n",
    "    for j in range(name_in_tensor.size()[0]):\n",
    "        output, hidden = rnn(name_in_tensor[j], hidden)\n",
    "        \n",
    "    pred = output_to_language(output)\n",
    "    \n",
    "    prediction.append(pred)\n",
    "    actual.append(language)"
   ]
  },
  {
   "cell_type": "code",
   "execution_count": 37,
   "metadata": {},
   "outputs": [
    {
     "name": "stdout",
     "output_type": "stream",
     "text": [
      "Collecting pandas_ml\n",
      "  Downloading https://files.pythonhosted.org/packages/8c/cd/efa2c3c4ab89c03184e96692c7e288c8272b08614b52786cbadb3c7b50aa/pandas_ml-0.6.0-py3-none-any.whl (102kB)\n",
      "Collecting enum34 (from pandas_ml)\n",
      "  Downloading https://files.pythonhosted.org/packages/af/42/cb9355df32c69b553e72a2e28daee25d1611d2c0d9c272aa1d34204205b2/enum34-1.1.6-py3-none-any.whl\n",
      "Requirement already satisfied: pandas>=0.19.0 in c:\\users\\topih\\anaconda3\\lib\\site-packages (from pandas_ml) (0.22.0)\n",
      "Requirement already satisfied: python-dateutil>=2 in c:\\users\\topih\\anaconda3\\lib\\site-packages (from pandas>=0.19.0->pandas_ml) (2.7.5)\n",
      "Requirement already satisfied: pytz>=2011k in c:\\users\\topih\\anaconda3\\lib\\site-packages (from pandas>=0.19.0->pandas_ml) (2018.7)\n",
      "Requirement already satisfied: numpy>=1.9.0 in c:\\users\\topih\\anaconda3\\lib\\site-packages (from pandas>=0.19.0->pandas_ml) (1.15.4)\n",
      "Requirement already satisfied: six>=1.5 in c:\\users\\topih\\anaconda3\\lib\\site-packages (from python-dateutil>=2->pandas>=0.19.0->pandas_ml) (1.12.0)\n",
      "Installing collected packages: enum34, pandas-ml\n",
      "Successfully installed enum34-1.1.6 pandas-ml-0.6.0\n"
     ]
    }
   ],
   "source": [
    "!pip install pandas_ml"
   ]
  },
  {
   "cell_type": "code",
   "execution_count": 38,
   "metadata": {},
   "outputs": [],
   "source": [
    "from pandas_ml import ConfusionMatrix\n",
    "import numpy as np"
   ]
  },
  {
   "cell_type": "code",
   "execution_count": 39,
   "metadata": {},
   "outputs": [],
   "source": [
    "confusion_matrix = ConfusionMatrix(actual, prediction)"
   ]
  },
  {
   "cell_type": "code",
   "execution_count": 40,
   "metadata": {},
   "outputs": [],
   "source": [
    "%matplotlib inline\n",
    "import matplotlib.pyplot as plt"
   ]
  },
  {
   "cell_type": "code",
   "execution_count": 41,
   "metadata": {},
   "outputs": [
    {
     "data": {
      "text/plain": [
       "<matplotlib.axes._subplots.AxesSubplot at 0x1b641702a58>"
      ]
     },
     "execution_count": 41,
     "metadata": {},
     "output_type": "execute_result"
    },
    {
     "data": {
      "image/png": "[encoded data removed]",
      "text/plain": [
       "<Figure size 648x576 with 2 Axes>"
      ]
     },
     "metadata": {
      "needs_background": "light"
     },
     "output_type": "display_data"
    }
   ],
   "source": [
    "confusion_matrix.plot()"
   ]
  },
  {
   "cell_type": "code",
   "execution_count": 42,
   "metadata": {},
   "outputs": [],
   "source": [
    "correct = 0\n",
    "for i, data in enumerate(actual):\n",
    "    if data == prediction[i]:\n",
    "        correct += 1"
   ]
  },
  {
   "cell_type": "code",
   "execution_count": 43,
   "metadata": {},
   "outputs": [
    {
     "name": "stdout",
     "output_type": "stream",
     "text": [
      "Accuracy of this language classifier is  0.6652\n"
     ]
    }
   ],
   "source": [
    "print('Accuracy of this language classifier is ', correct/n_confusion)"
   ]
  },
  {
   "cell_type": "code",
   "execution_count": null,
   "metadata": {},
   "outputs": [],
   "source": []
  },
  {
   "cell_type": "code",
   "execution_count": null,
   "metadata": {},
   "outputs": [],
   "source": []
  }
 ],
 "metadata": {
  "kernelspec": {
   "display_name": "Python 3",
   "language": "python",
   "name": "python3"
  },
  "language_info": {
   "codemirror_mode": {
    "name": "ipython",
    "version": 3
   },
   "file_extension": ".py",
   "mimetype": "text/x-python",
   "name": "python",
   "nbconvert_exporter": "python",
   "pygments_lexer": "ipython3",
   "version": "3.6.7"
  }
 },
 "nbformat": 4,
 "nbformat_minor": 2
}
